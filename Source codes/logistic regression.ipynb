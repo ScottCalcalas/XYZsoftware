{
 "cells": [
  {
   "cell_type": "code",
   "execution_count": 27,
   "id": "51d5e01b-3352-4ef5-89ae-b4a16755adca",
   "metadata": {},
   "outputs": [
    {
     "name": "stdout",
     "output_type": "stream",
     "text": [
      "Model, scaler, and feature order saved successfully!\n"
     ]
    }
   ],
   "source": [
    "import pandas as pd\n",
    "from sklearn.model_selection import train_test_split\n",
    "from sklearn.linear_model import LogisticRegression\n",
    "from sklearn.preprocessing import OneHotEncoder, StandardScaler\n",
    "import joblib\n",
    "import sklearn\n",
    "\n",
    "# Detect scikit-learn version\n",
    "sparse_param = 'sparse_output' if sklearn.__version__ >= '1.0' else 'sparse'\n",
    "\n",
    "# Load the dataset\n",
    "file_path = 'bank-additional-full.csv'\n",
    "df = pd.read_csv(file_path, delimiter=';')\n",
    "\n",
    "# Drop 'duration' column\n",
    "df = df.drop(columns=['duration'])\n",
    "\n",
    "# Encode categorical variables\n",
    "categorical_cols = df.select_dtypes(include=['object']).columns.difference(['y'])\n",
    "encoder = OneHotEncoder(drop='first', **{sparse_param: False}, handle_unknown='ignore')\n",
    "encoded_cats = encoder.fit_transform(df[categorical_cols])\n",
    "encoded_df = pd.DataFrame(encoded_cats, columns=encoder.get_feature_names_out(categorical_cols))\n",
    "\n",
    "# Combine numeric and encoded data\n",
    "numeric_cols = df.select_dtypes(include=['int64', 'float64']).columns\n",
    "combined_df = pd.concat([df[numeric_cols], encoded_df], axis=1)\n",
    "\n",
    "# Convert target variable to binary (1 for 'yes', 0 for 'no')\n",
    "df['y'] = df['y'].apply(lambda x: 1 if x == 'yes' else 0)\n",
    "\n",
    "# Split data into features and target\n",
    "X = combined_df\n",
    "y = df['y']\n",
    "X_train, X_test, y_train, y_test = train_test_split(X, y, test_size=0.3, random_state=42)\n",
    "\n",
    "# Scale numeric features\n",
    "scaler = StandardScaler()\n",
    "X_train[numeric_cols] = scaler.fit_transform(X_train[numeric_cols])\n",
    "X_test[numeric_cols] = scaler.transform(X_test[numeric_cols])\n",
    "\n",
    "# Train logistic regression model with class weight adjustment\n",
    "log_reg = LogisticRegression(max_iter=10000, random_state=42, solver='lbfgs', class_weight='balanced')\n",
    "log_reg.fit(X_train, y_train)\n",
    "\n",
    "# Save the necessary files\n",
    "joblib.dump(log_reg, 'logistic_regression_model.pkl')\n",
    "joblib.dump(scaler, 'scaler.pkl')\n",
    "joblib.dump(X_train.columns.tolist(), 'feature_order.pkl')  # Save feature order\n",
    "print(\"Model, scaler, and feature order saved successfully!\")\n"
   ]
  }
 ],
 "metadata": {
  "kernelspec": {
   "display_name": "Python 3 (ipykernel)",
   "language": "python",
   "name": "python3"
  },
  "language_info": {
   "codemirror_mode": {
    "name": "ipython",
    "version": 3
   },
   "file_extension": ".py",
   "mimetype": "text/x-python",
   "name": "python",
   "nbconvert_exporter": "python",
   "pygments_lexer": "ipython3",
   "version": "3.12.3"
  }
 },
 "nbformat": 4,
 "nbformat_minor": 5
}
